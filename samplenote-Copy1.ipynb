{
 "cells": [
  {
   "cell_type": "code",
   "execution_count": 1,
   "metadata": {},
   "outputs": [],
   "source": [
    "from total2partial import *\n",
    "import time "
   ]
  },
  {
   "cell_type": "code",
   "execution_count": 2,
   "metadata": {},
   "outputs": [
    {
     "name": "stdout",
     "output_type": "stream",
     "text": [
      "4_2_final.dat\n",
      "Threshold: 1 --> PG: 20\n",
      "Threshold: 2 --> PG: 155\n",
      "Threshold: 3 --> PG: 756\n"
     ]
    },
    {
     "data": {
      "text/plain": [
       "0.03368496894836426"
      ]
     },
     "execution_count": 2,
     "metadata": {},
     "output_type": "execute_result"
    }
   ],
   "source": [
    "#(x+y)z\n",
    "start =time.time()\n",
    "file = '4_2_final.dat'\n",
    "print(file)\n",
    "for i in range(1,4):\n",
    "    r = getPartialOrderByThreshold(i,file)\n",
    "    print('Threshold: {} --> PG: {}'.format(i, len(r)))\n",
    "time.time() -start"
   ]
  },
  {
   "cell_type": "code",
   "execution_count": 5,
   "metadata": {},
   "outputs": [
    {
     "name": "stdout",
     "output_type": "stream",
     "text": [
      "2_2_2_final.dat\n",
      "Threshold: 1 --> PG: 20\n",
      "Threshold: 2 --> PG: 150\n",
      "Threshold: 3 --> PG: 707\n"
     ]
    },
    {
     "data": {
      "text/plain": [
       "0.019524097442626953"
      ]
     },
     "execution_count": 5,
     "metadata": {},
     "output_type": "execute_result"
    }
   ],
   "source": [
    "# xyz\n",
    "start =time.time()\n",
    "file = '2_2_2_final.dat'\n",
    "print(file)\n",
    "for i in range(1,4):\n",
    "    r = getPartialOrderByThreshold(i,file)\n",
    "    print('Threshold: {} --> PG: {}'.format(i, len(r)))\n",
    "time.time() -start"
   ]
  },
  {
   "cell_type": "code",
   "execution_count": 6,
   "metadata": {},
   "outputs": [
    {
     "name": "stdout",
     "output_type": "stream",
     "text": [
      "8_final.dat\n",
      "Threshold: 1 --> PG: 20\n",
      "Threshold: 2 --> PG: 150\n",
      "Threshold: 3 --> PG: 707\n"
     ]
    },
    {
     "data": {
      "text/plain": [
       "0.019148826599121094"
      ]
     },
     "execution_count": 6,
     "metadata": {},
     "output_type": "execute_result"
    }
   ],
   "source": [
    "# x+y+z\n",
    "start = time.time()\n",
    "file = '8_final.dat'\n",
    "print(file)\n",
    "for i in range(1,4):\n",
    "    r = getPartialOrderByThreshold(i,file)\n",
    "    print('Threshold: {} --> PG: {}'.format(i, len(r)))\n",
    "time.time() -start"
   ]
  },
  {
   "cell_type": "code",
   "execution_count": 7,
   "metadata": {},
   "outputs": [
    {
     "name": "stdout",
     "output_type": "stream",
     "text": [
      "4_2_2_final.dat\n",
      "Threshold: 1 --> PG: 155\n",
      "Threshold: 2 --> PG: 3808\n",
      "Threshold: 3 --> PG: 45404\n"
     ]
    },
    {
     "data": {
      "text/plain": [
       "10.251657009124756"
      ]
     },
     "execution_count": 7,
     "metadata": {},
     "output_type": "execute_result"
    }
   ],
   "source": [
    "# (x+y)zw\n",
    "# computation time for 4 inputs is 100-1000 times than that of 3 inputs\n",
    "# getPartialOrderByThreshold can be optimized in the future like by using distributed computation\n",
    "start = time.time()\n",
    "file = '4_2_2_final.dat'\n",
    "print(file)\n",
    "for i in range(1,4):\n",
    "    r = getPartialOrderByThreshold(i,file)\n",
    "    print('Threshold: {} --> PG: {}'.format(i, len(r)))\n",
    "time.time()-start"
   ]
  },
  {
   "cell_type": "code",
   "execution_count": 5,
   "metadata": {},
   "outputs": [
    {
     "name": "stdout",
     "output_type": "stream",
     "text": [
      "True\n",
      "False\n"
     ]
    }
   ],
   "source": [
    "# check the realizability of total ordering induce the realizability of  partial  ordering\n",
    "print(totalInducePartial(total = [0,1,2,3,4,5,6,7],partial =[0,1,-2,2,3,4,-1,6,7]))\n",
    "print(totalInducePartial(total = [0,1,2,3,4,5,6,7],partial =[0,2,-2,1,3,4,-1,6,7]))"
   ]
  },
  {
   "cell_type": "code",
   "execution_count": 13,
   "metadata": {},
   "outputs": [
    {
     "name": "stdout",
     "output_type": "stream",
     "text": [
      "16_final.dat\n",
      "Threshold: 1 --> PG: 150\n"
     ]
    },
    {
     "data": {
      "text/plain": [
       "0.04355216026306152"
      ]
     },
     "execution_count": 13,
     "metadata": {},
     "output_type": "execute_result"
    }
   ],
   "source": [
    "# x+y+z+w\n",
    "start = time.time()\n",
    "file = '16_final.dat'\n",
    "print(file)\n",
    "for i in range(1,2):\n",
    "    r = getPartialOrderByThreshold(i,file)\n",
    "    print('Threshold: {} --> PG: {}'.format(i, len(r)))\n",
    "time.time() -start"
   ]
  },
  {
   "cell_type": "code",
   "execution_count": 11,
   "metadata": {},
   "outputs": [
    {
     "data": {
      "text/plain": [
       "range(0, 1)"
      ]
     },
     "execution_count": 11,
     "metadata": {},
     "output_type": "execute_result"
    }
   ],
   "source": [
    "range(1)"
   ]
  },
  {
   "cell_type": "code",
   "execution_count": 3,
   "metadata": {},
   "outputs": [
    {
     "name": "stdout",
     "output_type": "stream",
     "text": [
      "2_2_2_2_final.dat\n",
      "Threshold: 1 --> PG: 150\n",
      "Threshold: 2 --> PG: 3287\n",
      "Threshold: 3 --> PG: 35368\n"
     ]
    },
    {
     "data": {
      "text/plain": [
       "2.673882007598877"
      ]
     },
     "execution_count": 3,
     "metadata": {},
     "output_type": "execute_result"
    }
   ],
   "source": [
    "# (x+y)zw\n",
    "# computation time for 4 inputs is 100-1000 times than that of 3 inputs\n",
    "# getPartialOrderByThreshold can be optimized in the future like by using distributed computation\n",
    "start = time.time()\n",
    "file = '2_2_2_2_final.dat'\n",
    "print(file)\n",
    "for i in range(1,4):\n",
    "    r = getPartialOrderByThreshold(i,file)\n",
    "    print('Threshold: {} --> PG: {}'.format(i, len(r)))\n",
    "time.time()-start"
   ]
  },
  {
   "cell_type": "code",
   "execution_count": 4,
   "metadata": {},
   "outputs": [
    {
     "name": "stdout",
     "output_type": "stream",
     "text": [
      "4_2_2_final.dat\n",
      "Threshold: 1 --> PG: 155\n",
      "Threshold: 2 --> PG: 3808\n",
      "Threshold: 3 --> PG: 45404\n"
     ]
    },
    {
     "data": {
      "text/plain": [
       "10.278313875198364"
      ]
     },
     "execution_count": 4,
     "metadata": {},
     "output_type": "execute_result"
    }
   ],
   "source": [
    "# (x+y)zw\n",
    "# computation time for 4 inputs is 100-1000 times than that of 3 inputs\n",
    "# getPartialOrderByThreshold can be optimized in the future like by using distributed computation\n",
    "start = time.time()\n",
    "file = '4_2_2_final.dat'\n",
    "print(file)\n",
    "for i in range(1,4):\n",
    "    r = getPartialOrderByThreshold(i,file)\n",
    "    print('Threshold: {} --> PG: {}'.format(i, len(r)))\n",
    "time.time()-start"
   ]
  },
  {
   "cell_type": "code",
   "execution_count": 5,
   "metadata": {},
   "outputs": [
    {
     "name": "stdout",
     "output_type": "stream",
     "text": [
      "8_2_final.dat\n",
      "Threshold: 1 --> PG: 150\n",
      "Threshold: 2 --> PG: 3799\n",
      "Threshold: 3 --> PG: 46809\n"
     ]
    },
    {
     "data": {
      "text/plain": [
       "23.71649694442749"
      ]
     },
     "execution_count": 5,
     "metadata": {},
     "output_type": "execute_result"
    }
   ],
   "source": [
    "# (x+y)zw\n",
    "# computation time for 4 inputs is 100-1000 times than that of 3 inputs\n",
    "# getPartialOrderByThreshold can be optimized in the future like by using distributed computation\n",
    "start = time.time()\n",
    "file = '8_2_final.dat'\n",
    "print(file)\n",
    "for i in range(1,4):\n",
    "    r = getPartialOrderByThreshold(i,file)\n",
    "    print('Threshold: {} --> PG: {}'.format(i, len(r)))\n",
    "time.time()-start"
   ]
  },
  {
   "cell_type": "code",
   "execution_count": null,
   "metadata": {},
   "outputs": [
    {
     "name": "stdout",
     "output_type": "stream",
     "text": [
      "4_4_final.dat\n",
      "Threshold: 1 --> PG: 155\n",
      "Threshold: 2 --> PG: 4204\n"
     ]
    }
   ],
   "source": [
    "start = time.time()\n",
    "file = '4_4_final.dat'\n",
    "print(file)\n",
    "for i in range(1,4):\n",
    "    r = getPartialOrderByThreshold(i,file)\n",
    "    print('Threshold: {} --> PG: {}'.format(i, len(r)))\n",
    "time.time()-start"
   ]
  }
 ],
 "metadata": {
  "kernelspec": {
   "display_name": "Python (tensorflow)",
   "language": "python",
   "name": "myenv"
  },
  "language_info": {
   "codemirror_mode": {
    "name": "ipython",
    "version": 3
   },
   "file_extension": ".py",
   "mimetype": "text/x-python",
   "name": "python",
   "nbconvert_exporter": "python",
   "pygments_lexer": "ipython3",
   "version": "3.6.7"
  }
 },
 "nbformat": 4,
 "nbformat_minor": 2
}
