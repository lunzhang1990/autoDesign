{
 "cells": [
  {
   "cell_type": "markdown",
   "metadata": {},
   "source": [
    "# Constructing helper functions"
   ]
  },
  {
   "cell_type": "code",
   "execution_count": 4,
   "metadata": {},
   "outputs": [],
   "source": [
    "import numpy as np"
   ]
  },
  {
   "cell_type": "code",
   "execution_count": 3,
   "metadata": {},
   "outputs": [],
   "source": [
    "monoStableStates ={'X1':'H', 'X2':'L'} # single dictionary\n",
    "hSet = set()\n",
    "lSet = set()\n",
    "for node in monoStableStates:\n",
    "    if monoStableStates[node] == 'H':\n",
    "        hSet.add(node)\n",
    "    else:\n",
    "        lSet.add(node)"
   ]
  },
  {
   "cell_type": "code",
   "execution_count": 40,
   "metadata": {},
   "outputs": [],
   "source": [
    "# state of in edges\n",
    "def stateInEdges(inStates, nodeStates):\n",
    "    inEdges = []\n",
    "    for node in inStates:\n",
    "        if node[1] ==  nodeState:\n",
    "            inEdges.append(str(node[0]))\n",
    "        else:\n",
    "            inEdges.append('~'+str(node[0]))\n",
    "    return inEdges\n",
    "\n",
    "# logic combine of inedges\n",
    "def combineInEdges(inEdges, logic):\n",
    "    binLogic = np.log2(logic)\n",
    "    binLogic = [int(x) for x in binLogic]\n",
    "    start = 0\n",
    "    currStringList = []\n",
    "    for i in range(len(binLogic)):\n",
    "        currentBin = binLogic[i]\n",
    "        tempString = '+'.join(inEdges[start:start+currentBin])\n",
    "        tempString = '('+tempString+')'\n",
    "        currStringList.append(tempString)\n",
    "        start += currentBin\n",
    "    \n",
    "    return ''.join(currStringList)\n",
    "    \n",
    "# inStates variable is in order of inLogic for one node\n",
    "def parseInEdge(inStates, inLogic, nodeState, nodeName):\n",
    "    variables = []\n",
    "    \n",
    "    # set edges type\n",
    "    inEdges = stateInEdges(inStates,nodeState)\n",
    "    \n",
    "    \n",
    "    #combine to logic\n",
    "    inEdgeString = combineInEdges(inEdges, inLogic)\n",
    "    \n",
    "    return str(nodeName) +':' + inEdgeString\n",
    "    "
   ]
  },
  {
   "cell_type": "code",
   "execution_count": 41,
   "metadata": {},
   "outputs": [],
   "source": [
    "nodeStates = {'SOX17':'H', 'PRDMI':'H', 'HAND1':'L', 'ID1':'H','TAFP2C':'H'}"
   ]
  },
  {
   "cell_type": "code",
   "execution_count": 42,
   "metadata": {},
   "outputs": [],
   "source": [
    "inStates = []\n",
    "for key in nodeStates:\n",
    "    inStates.append([key,nodeStates[key]])"
   ]
  },
  {
   "cell_type": "code",
   "execution_count": 43,
   "metadata": {},
   "outputs": [],
   "source": [
    "inLogic = [4,4]"
   ]
  },
  {
   "cell_type": "code",
   "execution_count": 44,
   "metadata": {},
   "outputs": [],
   "source": [
    "nodeName = 'HAND1'\n",
    "nodeState = nodeStates[nodeName]"
   ]
  },
  {
   "cell_type": "code",
   "execution_count": 45,
   "metadata": {},
   "outputs": [
    {
     "data": {
      "text/plain": [
       "'HAND1:(~SOX17+~PRDMI)(HAND1+~ID1)'"
      ]
     },
     "execution_count": 45,
     "metadata": {},
     "output_type": "execute_result"
    }
   ],
   "source": [
    "parseInEdge(inStates,inLogic, nodeState, nodeName)"
   ]
  },
  {
   "cell_type": "markdown",
   "metadata": {},
   "source": [
    "For each node the key input is nodeList (in order) and the the inLogic.\n",
    "\n",
    "NodeList in order can have many choices for the same state of nodes.\n",
    "\n",
    "So restrictions (from biology) should be added to when dealing with GRN."
   ]
  },
  {
   "cell_type": "markdown",
   "metadata": {},
   "source": [
    "# Construct the probability database based on sampling for each logic"
   ]
  },
  {
   "cell_type": "markdown",
   "metadata": {},
   "source": [
    "* For monostability\n",
    "\n",
    "Need two dictionaries such that $P(\\theta_{\\max} < p_i)$ or $P( p_i  <\\theta_{\\min} )$\n",
    "\n",
    "* For bistability \n",
    "\n",
    " The three dictionaries we would like to construct from all sample of total order is \n",
    "\n",
    "1. $P(\\theta_{\\min} < p_i < p_j)$: proxy $P(\\theta_0 < p_i < p_j)$\n",
    "\n",
    "2. $P( p_i < p_j < \\theta_{\\max})$: proxy $P( p_i < p_j  < \\theta_0 )$\n",
    "\n",
    "3. $P( p_i < \\theta_{\\min} \\text{ and } p_j < \\theta_{\\max})$: proxy $P( p_i < \\theta_0 \\text{ and } p_j  < \\theta_1 )$\n",
    "\n",
    "These three dictionaries is  logic independent  should be regarded a three big whole dictionaries( but in practice can be stored to save memory)\n",
    "\n",
    "* For multi stability\n",
    "\n",
    "Need new database such that $\\textbf{Prob}(\\wedge_{\\text{multiple stable states}} \\{p_i < \\theta_0 \\text{ or } p_j > \\theta_0 \\})$\n",
    "\n",
    "* NOR Gate (four stable states)\n",
    "\n",
    "Like above\n",
    "\n",
    "* Unknown states or node (with multiple partial stable states)\n",
    "\n",
    "Need new database such that $\\textbf{Prob}(\\vee_{\\text{all possible states for unknown node}}\\{\\wedge_{\\text{multiple stable states}}  \\{p_i < \\theta_0 \\text{ or } p_j > \\theta_0 \\})$. The union can be represented by the longest interval of $(p_i,p_j)$ for choosing the unknown states."
   ]
  },
  {
   "cell_type": "markdown",
   "metadata": {},
   "source": [
    "We are going to construct three distance dictionareis to store all the values we need in auto design path choice algorithm\n",
    "\n",
    "The dictionary has \n",
    "\n",
    "$\\textbf{Key}$: $(n_d, n_s, s)$, where $n_d$ is the number of corresponding variables that changes the state, where $n_s$ is the number of edges that does not change the state, s is u or l that indicates the states of $n_s$ variables.\n",
    "\n",
    "$\\textbf{Value}$: list of pairs ((p_i,p_j), probability), probability is one of the probability in the previous discussion and the $p_i,p_j$ has $n_d$ different variables at corresponding position, $n_s$ same variables in the rest positions with value $u,l$ indicated by $s$. It should be sorted from highest to loweset with respect to probability term.\n",
    "\n",
    "When $p_i,p_j$ is known we can easily generate nodeList (in order) and inLogic. Note, it is easy to see the nodeList may have many choices by local symmetry"
   ]
  },
  {
   "cell_type": "markdown",
   "metadata": {},
   "source": [
    "A proxy probability or ranking is $\\textbf{Prob}(p_i < \\theta_0 \\text{ and } p_j > \\theta_0, i\\in I ,j\\in J)$. The $\\theta_{\\min},\\theta_{\\max}$ version is an increasing function of the $\\theta_0$ version, so it can be a reasonble proxity of ranking in choosing input edges type"
   ]
  },
  {
   "cell_type": "code",
   "execution_count": null,
   "metadata": {},
   "outputs": [],
   "source": []
  }
 ],
 "metadata": {
  "kernelspec": {
   "display_name": "Python (tensorflow)",
   "language": "python",
   "name": "myenv"
  },
  "language_info": {
   "codemirror_mode": {
    "name": "ipython",
    "version": 3
   },
   "file_extension": ".py",
   "mimetype": "text/x-python",
   "name": "python",
   "nbconvert_exporter": "python",
   "pygments_lexer": "ipython3",
   "version": "3.6.7"
  }
 },
 "nbformat": 4,
 "nbformat_minor": 2
}
