{
 "cells": [
  {
   "cell_type": "markdown",
   "metadata": {},
   "source": [
    "# Generate the number of single threshold"
   ]
  },
  {
   "cell_type": "code",
   "execution_count": 1,
   "metadata": {},
   "outputs": [],
   "source": [
    "from total2partial import *\n",
    "import time \n",
    "import re"
   ]
  },
  {
   "cell_type": "code",
   "execution_count": 2,
   "metadata": {},
   "outputs": [
    {
     "name": "stdout",
     "output_type": "stream",
     "text": [
      "4_2_final.dat\n",
      "Threshold: 1 --> PG: 20\n",
      "Threshold: 2 --> PG: 155\n",
      "Threshold: 3 --> PG: 756\n"
     ]
    },
    {
     "data": {
      "text/plain": [
       "0.03368496894836426"
      ]
     },
     "execution_count": 2,
     "metadata": {},
     "output_type": "execute_result"
    }
   ],
   "source": [
    "#(x+y)z\n",
    "start =time.time()\n",
    "file = '4_2_final.dat'\n",
    "print(file)\n",
    "for i in range(1,4):\n",
    "    r = getPartialOrderByThreshold(i,file)\n",
    "    print('Threshold: {} --> PG: {}'.format(i, len(r)))\n",
    "time.time() -start"
   ]
  },
  {
   "cell_type": "code",
   "execution_count": 5,
   "metadata": {},
   "outputs": [
    {
     "name": "stdout",
     "output_type": "stream",
     "text": [
      "2_2_2_final.dat\n",
      "Threshold: 1 --> PG: 20\n",
      "Threshold: 2 --> PG: 150\n",
      "Threshold: 3 --> PG: 707\n"
     ]
    },
    {
     "data": {
      "text/plain": [
       "0.019524097442626953"
      ]
     },
     "execution_count": 5,
     "metadata": {},
     "output_type": "execute_result"
    }
   ],
   "source": [
    "# xyz\n",
    "start =time.time()\n",
    "file = '2_2_2_final.dat'\n",
    "print(file)\n",
    "for i in range(1,4):\n",
    "    r = getPartialOrderByThreshold(i,file)\n",
    "    print('Threshold: {} --> PG: {}'.format(i, len(r)))\n",
    "time.time() -start"
   ]
  },
  {
   "cell_type": "code",
   "execution_count": 6,
   "metadata": {},
   "outputs": [
    {
     "name": "stdout",
     "output_type": "stream",
     "text": [
      "8_final.dat\n",
      "Threshold: 1 --> PG: 20\n",
      "Threshold: 2 --> PG: 150\n",
      "Threshold: 3 --> PG: 707\n"
     ]
    },
    {
     "data": {
      "text/plain": [
       "0.019148826599121094"
      ]
     },
     "execution_count": 6,
     "metadata": {},
     "output_type": "execute_result"
    }
   ],
   "source": [
    "# x+y+z\n",
    "start = time.time()\n",
    "file = '8_final.dat'\n",
    "print(file)\n",
    "for i in range(1,4):\n",
    "    r = getPartialOrderByThreshold(i,file)\n",
    "    print('Threshold: {} --> PG: {}'.format(i, len(r)))\n",
    "time.time() -start"
   ]
  },
  {
   "cell_type": "code",
   "execution_count": 7,
   "metadata": {},
   "outputs": [
    {
     "name": "stdout",
     "output_type": "stream",
     "text": [
      "4_2_2_final.dat\n",
      "Threshold: 1 --> PG: 155\n",
      "Threshold: 2 --> PG: 3808\n",
      "Threshold: 3 --> PG: 45404\n"
     ]
    },
    {
     "data": {
      "text/plain": [
       "10.251657009124756"
      ]
     },
     "execution_count": 7,
     "metadata": {},
     "output_type": "execute_result"
    }
   ],
   "source": [
    "# (x+y)zw\n",
    "# computation time for 4 inputs is 100-1000 times than that of 3 inputs\n",
    "# getPartialOrderByThreshold can be optimized in the future like by using distributed computation\n",
    "start = time.time()\n",
    "file = '4_2_2_final.dat'\n",
    "print(file)\n",
    "for i in range(1,4):\n",
    "    r = getPartialOrderByThreshold(i,file)\n",
    "    print('Threshold: {} --> PG: {}'.format(i, len(r)))\n",
    "time.time()-start"
   ]
  },
  {
   "cell_type": "code",
   "execution_count": 5,
   "metadata": {},
   "outputs": [
    {
     "name": "stdout",
     "output_type": "stream",
     "text": [
      "True\n",
      "False\n"
     ]
    }
   ],
   "source": [
    "# check the realizability of total ordering induce the realizability of  partial  ordering\n",
    "print(totalInducePartial(total = [0,1,2,3,4,5,6,7],partial =[0,1,-2,2,3,4,-1,6,7]))\n",
    "print(totalInducePartial(total = [0,1,2,3,4,5,6,7],partial =[0,2,-2,1,3,4,-1,6,7]))"
   ]
  },
  {
   "cell_type": "code",
   "execution_count": 13,
   "metadata": {},
   "outputs": [
    {
     "name": "stdout",
     "output_type": "stream",
     "text": [
      "16_final.dat\n",
      "Threshold: 1 --> PG: 150\n"
     ]
    },
    {
     "data": {
      "text/plain": [
       "0.04355216026306152"
      ]
     },
     "execution_count": 13,
     "metadata": {},
     "output_type": "execute_result"
    }
   ],
   "source": [
    "# x+y+z+w\n",
    "start = time.time()\n",
    "file = '16_final.dat'\n",
    "print(file)\n",
    "for i in range(1,2):\n",
    "    r = getPartialOrderByThreshold(i,file)\n",
    "    print('Threshold: {} --> PG: {}'.format(i, len(r)))\n",
    "time.time() -start"
   ]
  },
  {
   "cell_type": "code",
   "execution_count": 3,
   "metadata": {},
   "outputs": [
    {
     "name": "stdout",
     "output_type": "stream",
     "text": [
      "2_2_2_2_final.dat\n",
      "Threshold: 1 --> PG: 150\n",
      "Threshold: 2 --> PG: 3287\n",
      "Threshold: 3 --> PG: 35368\n"
     ]
    },
    {
     "data": {
      "text/plain": [
       "2.673882007598877"
      ]
     },
     "execution_count": 3,
     "metadata": {},
     "output_type": "execute_result"
    }
   ],
   "source": [
    "# xyzw\n",
    "# computation time for 4 inputs is 100-1000 times than that of 3 inputs\n",
    "# getPartialOrderByThreshold can be optimized in the future like by using distributed computation\n",
    "start = time.time()\n",
    "file = '2_2_2_2_final.dat'\n",
    "print(file)\n",
    "for i in range(1,4):\n",
    "    r = getPartialOrderByThreshold(i,file)\n",
    "    print('Threshold: {} --> PG: {}'.format(i, len(r)))\n",
    "time.time()-start"
   ]
  },
  {
   "cell_type": "code",
   "execution_count": 5,
   "metadata": {},
   "outputs": [
    {
     "name": "stdout",
     "output_type": "stream",
     "text": [
      "8_2_final.dat\n",
      "Threshold: 1 --> PG: 150\n",
      "Threshold: 2 --> PG: 3799\n",
      "Threshold: 3 --> PG: 46809\n"
     ]
    },
    {
     "data": {
      "text/plain": [
       "23.71649694442749"
      ]
     },
     "execution_count": 5,
     "metadata": {},
     "output_type": "execute_result"
    }
   ],
   "source": [
    "# (x+y+z)w\n",
    "# computation time for 4 inputs is 100-1000 times than that of 3 inputs\n",
    "# getPartialOrderByThreshold can be optimized in the future like by using distributed computation\n",
    "start = time.time()\n",
    "file = '8_2_final.dat'\n",
    "print(file)\n",
    "for i in range(1,4):\n",
    "    r = getPartialOrderByThreshold(i,file)\n",
    "    print('Threshold: {} --> PG: {}'.format(i, len(r)))\n",
    "time.time()-start"
   ]
  },
  {
   "cell_type": "markdown",
   "metadata": {},
   "source": [
    "# Generate the number of pair of threshold"
   ]
  },
  {
   "cell_type": "markdown",
   "metadata": {},
   "source": [
    "The nth pair of threshold will be '-n' '+n', which means the partial order list is a mixture of integers and strings"
   ]
  },
  {
   "cell_type": "code",
   "execution_count": null,
   "metadata": {},
   "outputs": [],
   "source": [
    "#(x+y)z\n",
    "start =time.time()\n",
    "file = '4_2_final.dat'\n",
    "print(file)\n",
    "for i in range(1,4):\n",
    "    r = getPartialOrderByThreshold(i,file)\n",
    "    print('Threshold: {} --> PG: {}'.format(i, len(r)))\n",
    "time.time() -start"
   ]
  },
  {
   "cell_type": "markdown",
   "metadata": {},
   "source": [
    "# stability statistics for single region"
   ]
  },
  {
   "cell_type": "markdown",
   "metadata": {},
   "source": [
    "## Counting method"
   ]
  },
  {
   "cell_type": "code",
   "execution_count": 17,
   "metadata": {},
   "outputs": [],
   "source": [
    "# first use the standard method to compute the statistics\n",
    "# by using the data already computed in KUIAS for two hours\n",
    "\n",
    "import sys\n",
    "sys.path+=['/Users/lunzhang/anaconda3/lib/python3.6/site-packages']\n",
    "import DSGRN\n",
    "import matplotlib.pyplot as plt\n",
    "import numpy as np\n",
    "%matplotlib inline\n",
    "\n",
    "def NetworkSpecStr(net_spec):\n",
    "    net_spec_str = \"\"\n",
    "\n",
    "    spec = \"SOX17 : \"\n",
    "    activators = ' + '.join([ 'Y' + str(j) for j in range(0,2) if net_spec[j] == 1])\n",
    "    repressors = ')('.join([ '~Y' + str(j) for j in range(0,2) if net_spec[j] == -1])\n",
    "    if activators:\n",
    "        activators = '(' + activators + ')'\n",
    "    if repressors:\n",
    "        repressors = '(' + repressors + ')'\n",
    "    spec += activators + repressors + \"\\n \"\n",
    "    spec = spec.replace(\"Y0\", \"TAFP2C\")\n",
    "    spec = spec.replace(\"Y1\", \"ID1\")\n",
    "    net_spec_str += spec\n",
    "\n",
    "    spec = \"TAFP2C : \"\n",
    "    activators = ' + '.join([ 'Y' + str(j) for j in range(2,5) if net_spec[j] == 1])\n",
    "    repressors = ')('.join([ '~Y' + str(j) for j in range(2,5) if net_spec[j] == -1])\n",
    "    if activators:\n",
    "        activators = '(' + activators + ')'\n",
    "    if repressors:\n",
    "        repressors = '(' + repressors + ')'\n",
    "    spec += activators + repressors + \"\\n \"\n",
    "    spec = spec.replace(\"Y2\", \"HAND1\")\n",
    "    spec = spec.replace(\"Y3\", \"ID1\")\n",
    "    spec = spec.replace(\"Y4\", \"SOX17\")\n",
    "    net_spec_str += spec\n",
    "\n",
    "    spec = \"PRDMI : \" + (\"~SOX17\" if net_spec[5] == -1 else \"SOX17\") + \"\\n \"\n",
    "    net_spec_str += spec\n",
    "\n",
    "    spec = \"HAND1 : \" + (\"~PRDMI\" if net_spec[6] == -1 else \"PRDMI\") + \"\\n \"\n",
    "    net_spec_str += spec\n",
    "\n",
    "    spec = \"ID1 : \" + (\"~PRDMI\" if net_spec[7] == -1 else \"PRDMI\")\n",
    "    net_spec_str += spec\n",
    "\n",
    "    return net_spec_str"
   ]
  },
  {
   "cell_type": "code",
   "execution_count": 19,
   "metadata": {},
   "outputs": [
    {
     "data": {
      "text/plain": [
       "'/Users/lunzhang/Desktop/datapool/KUIAS'"
      ]
     },
     "execution_count": 19,
     "metadata": {},
     "output_type": "execute_result"
    }
   ],
   "source": [
    "pwd"
   ]
  },
  {
   "cell_type": "code",
   "execution_count": 20,
   "metadata": {},
   "outputs": [],
   "source": [
    "results = []\n",
    "for k in range(256):\n",
    "    results_fname = './DSGRNtest/results/results_' + str(k) + '.txt'\n",
    "    with open(results_fname, 'r') as f:\n",
    "        results.append([k] + [int(float(x)) for line in f for x in line.split()])"
   ]
  },
  {
   "cell_type": "code",
   "execution_count": 53,
   "metadata": {},
   "outputs": [],
   "source": [
    "innw = {'SOX17':['ID1','TAFP2C'], \n",
    "        'TFAP2C':['ID1','SOX17','HAND1'],'PRDMI':['SOX17'],'HAND1':['PRDMI'],'ID1':['PRDMI']}\n",
    "setnodes = ['SOX17','TFAP2C','PRDMI','HAND1','ID1']\n",
    "regions = [[0,0,0,0,0],[2,1,2,0,2]]"
   ]
  },
  {
   "cell_type": "code",
   "execution_count": 22,
   "metadata": {},
   "outputs": [],
   "source": [
    "network_specs = []\n",
    "for k in range(256):\n",
    "    net_spec_fname = './DSGRNtest/results/net_spec_' + str(k) + '.txt'\n",
    "    with open(net_spec_fname, 'r') as f:\n",
    "        network_specs.append([int(k) for line in f for k in line.split()])"
   ]
  },
  {
   "cell_type": "code",
   "execution_count": 23,
   "metadata": {},
   "outputs": [],
   "source": [
    "# results.sort(key=lambda x: x[2]+x[3]-x[4], reverse=True)\n",
    "results.sort(key=lambda x: x[4], reverse=True)"
   ]
  },
  {
   "cell_type": "code",
   "execution_count": 24,
   "metadata": {},
   "outputs": [
    {
     "data": {
      "text/plain": [
       "[[221, 345600, 14112, 38304, 936, 41],\n",
       " [223, 345600, 28224, 19152, 936, 47],\n",
       " [253, 345600, 19152, 28224, 936, 35],\n",
       " [255, 345600, 38304, 14112, 936, 44],\n",
       " [205, 345600, 6048, 28224, 216, 36]]"
      ]
     },
     "execution_count": 24,
     "metadata": {},
     "output_type": "execute_result"
    }
   ],
   "source": [
    "results[:5]"
   ]
  },
  {
   "cell_type": "code",
   "execution_count": 27,
   "metadata": {},
   "outputs": [
    {
     "data": {
      "text/plain": [
       "11.083333333333334"
      ]
     },
     "execution_count": 27,
     "metadata": {},
     "output_type": "execute_result"
    }
   ],
   "source": [
    "k=0\n",
    "(results[k][3] / results[k][1]) * 100"
   ]
  },
  {
   "cell_type": "code",
   "execution_count": 31,
   "metadata": {},
   "outputs": [
    {
     "data": {
      "text/plain": [
       "'SOX17 : (TAFP2C + ID1)\\n TAFP2C : (ID1 + SOX17)(~HAND1)\\n PRDMI : SOX17\\n HAND1 : ~PRDMI\\n ID1 : PRDMI'"
      ]
     },
     "execution_count": 31,
     "metadata": {},
     "output_type": "execute_result"
    }
   ],
   "source": [
    "spec_index = 221\n",
    "net_spec = network_specs[spec_index]\n",
    "net_spec_str = NetworkSpecStr(net_spec)\n",
    "net_spec_str"
   ]
  },
  {
   "cell_type": "code",
   "execution_count": 32,
   "metadata": {},
   "outputs": [
    {
     "data": {
      "image/svg+xml": [
       "<?xml version=\"1.0\" encoding=\"UTF-8\" standalone=\"no\"?>\n",
       "<!DOCTYPE svg PUBLIC \"-//W3C//DTD SVG 1.1//EN\"\n",
       " \"http://www.w3.org/Graphics/SVG/1.1/DTD/svg11.dtd\">\n",
       "<!-- Generated by graphviz version 2.40.1 (20161225.0304)\n",
       " -->\n",
       "<!-- Title: %3 Pages: 1 -->\n",
       "<svg width=\"200pt\" height=\"260pt\"\n",
       " viewBox=\"0.00 0.00 200.35 260.00\" xmlns=\"http://www.w3.org/2000/svg\" xmlns:xlink=\"http://www.w3.org/1999/xlink\">\n",
       "<g id=\"graph0\" class=\"graph\" transform=\"scale(1 1) rotate(0) translate(4 256)\">\n",
       "<title>%3</title>\n",
       "<polygon fill=\"#f0f8ff\" stroke=\"transparent\" points=\"-4,4 -4,-256 196.3483,-256 196.3483,4 -4,4\"/>\n",
       "<!-- SOX17 -->\n",
       "<g id=\"node1\" class=\"node\">\n",
       "<title>SOX17</title>\n",
       "<ellipse fill=\"#f5f5dc\" stroke=\"#000000\" cx=\"41.3483\" cy=\"-234\" rx=\"36.7836\" ry=\"18\"/>\n",
       "<text text-anchor=\"middle\" x=\"41.3483\" y=\"-229.8\" font-family=\"Times,serif\" font-size=\"14.00\" fill=\"#000000\">SOX17</text>\n",
       "</g>\n",
       "<!-- TAFP2C -->\n",
       "<g id=\"node2\" class=\"node\">\n",
       "<title>TAFP2C</title>\n",
       "<ellipse fill=\"#f5f5dc\" stroke=\"#000000\" cx=\"41.3483\" cy=\"-18\" rx=\"41.1971\" ry=\"18\"/>\n",
       "<text text-anchor=\"middle\" x=\"41.3483\" y=\"-13.8\" font-family=\"Times,serif\" font-size=\"14.00\" fill=\"#000000\">TAFP2C</text>\n",
       "</g>\n",
       "<!-- SOX17&#45;&gt;TAFP2C -->\n",
       "<g id=\"edge3\" class=\"edge\">\n",
       "<title>SOX17&#45;&gt;TAFP2C</title>\n",
       "<path fill=\"none\" stroke=\"#000000\" d=\"M30.4024,-216.5524C27.4702,-206.0069 25.424,-192.2735 24.3483,-180 20.1565,-132.1751 17.959,-119.8072 22.3483,-72 23.1539,-63.225 24.6812,-53.7478 26.7276,-45.219\"/>\n",
       "<polygon fill=\"#000000\" stroke=\"#000000\" points=\"30.1517,-45.9699 29.4676,-35.3972 23.4092,-44.0889 30.1517,-45.9699\"/>\n",
       "</g>\n",
       "<!-- PRDMI -->\n",
       "<g id=\"node3\" class=\"node\">\n",
       "<title>PRDMI</title>\n",
       "<ellipse fill=\"#f5f5dc\" stroke=\"#000000\" cx=\"80.3483\" cy=\"-162\" rx=\"38.237\" ry=\"18\"/>\n",
       "<text text-anchor=\"middle\" x=\"80.3483\" y=\"-157.8\" font-family=\"Times,serif\" font-size=\"14.00\" fill=\"#000000\">PRDMI</text>\n",
       "</g>\n",
       "<!-- SOX17&#45;&gt;PRDMI -->\n",
       "<g id=\"edge6\" class=\"edge\">\n",
       "<title>SOX17&#45;&gt;PRDMI</title>\n",
       "<path fill=\"none\" stroke=\"#000000\" d=\"M50.7891,-216.5708C55.3541,-208.1431 60.9319,-197.8455 66.0074,-188.4755\"/>\n",
       "<polygon fill=\"#000000\" stroke=\"#000000\" points=\"69.1739,-189.9782 70.8592,-179.5182 63.0188,-186.6442 69.1739,-189.9782\"/>\n",
       "</g>\n",
       "<!-- TAFP2C&#45;&gt;SOX17 -->\n",
       "<g id=\"edge1\" class=\"edge\">\n",
       "<title>TAFP2C&#45;&gt;SOX17</title>\n",
       "<path fill=\"none\" stroke=\"#000000\" d=\"M45.0077,-36.3779C43.8863,-46.7686 41.4466,-60.037 40.3483,-72 35.959,-119.8072 38.1565,-132.1751 42.3483,-180 43.093,-188.497 44.3029,-197.6938 45.1677,-206.048\"/>\n",
       "<polygon fill=\"#000000\" stroke=\"#000000\" points=\"41.6845,-206.3953 46.0177,-216.0635 48.6594,-205.8033 41.6845,-206.3953\"/>\n",
       "</g>\n",
       "<!-- HAND1 -->\n",
       "<g id=\"node4\" class=\"node\">\n",
       "<title>HAND1</title>\n",
       "<ellipse fill=\"#f5f5dc\" stroke=\"#000000\" cx=\"80.3483\" cy=\"-90\" rx=\"40.149\" ry=\"18\"/>\n",
       "<text text-anchor=\"middle\" x=\"80.3483\" y=\"-85.8\" font-family=\"Times,serif\" font-size=\"14.00\" fill=\"#000000\">HAND1</text>\n",
       "</g>\n",
       "<!-- PRDMI&#45;&gt;HAND1 -->\n",
       "<g id=\"edge7\" class=\"edge\">\n",
       "<title>PRDMI&#45;&gt;HAND1</title>\n",
       "<path fill=\"none\" stroke=\"#000000\" d=\"M80.3483,-143.8314C80.3483,-134.6078 80.3483,-123.295 80.3483,-113.4246\"/>\n",
       "<polygon fill=\"#000000\" stroke=\"#000000\" points=\"75.3483,-109.4134 85.3483,-109.4132 85.3483,-111.4132 75.3483,-111.4134 75.3483,-109.4134\"/>\n",
       "<polyline fill=\"none\" stroke=\"#000000\" points=\"80.3483,-108.4133 80.3484,-113.4133 \"/>\n",
       "</g>\n",
       "<!-- ID1 -->\n",
       "<g id=\"node5\" class=\"node\">\n",
       "<title>ID1</title>\n",
       "<ellipse fill=\"#f5f5dc\" stroke=\"#000000\" cx=\"165.3483\" cy=\"-90\" rx=\"27\" ry=\"18\"/>\n",
       "<text text-anchor=\"middle\" x=\"165.3483\" y=\"-85.8\" font-family=\"Times,serif\" font-size=\"14.00\" fill=\"#000000\">ID1</text>\n",
       "</g>\n",
       "<!-- PRDMI&#45;&gt;ID1 -->\n",
       "<g id=\"edge8\" class=\"edge\">\n",
       "<title>PRDMI&#45;&gt;ID1</title>\n",
       "<path fill=\"none\" stroke=\"#000000\" d=\"M99.2125,-146.0209C111.4445,-135.6597 127.5065,-122.0542 140.7384,-110.846\"/>\n",
       "<polygon fill=\"#000000\" stroke=\"#000000\" points=\"143.1836,-113.3617 148.5518,-104.2276 138.6591,-108.0204 143.1836,-113.3617\"/>\n",
       "</g>\n",
       "<!-- HAND1&#45;&gt;TAFP2C -->\n",
       "<g id=\"edge5\" class=\"edge\">\n",
       "<title>HAND1&#45;&gt;TAFP2C</title>\n",
       "<path fill=\"none\" stroke=\"#b8860b\" d=\"M70.7078,-72.2022C65.4655,-62.5241 58.9331,-50.4642 53.3618,-40.1789\"/>\n",
       "<polygon fill=\"#b8860b\" stroke=\"#b8860b\" points=\"46.9576,-38.8538 55.7506,-34.0909 56.7032,-35.8494 47.9102,-40.6124 46.9576,-38.8538\"/>\n",
       "<polyline fill=\"none\" stroke=\"#b8860b\" points=\"50.8778,-35.593 53.2593,-39.9895 \"/>\n",
       "</g>\n",
       "<!-- ID1&#45;&gt;SOX17 -->\n",
       "<g id=\"edge2\" class=\"edge\">\n",
       "<title>ID1&#45;&gt;SOX17</title>\n",
       "<path fill=\"none\" stroke=\"#000000\" d=\"M161.2302,-107.9509C156.0245,-127.457 145.4795,-158.6828 127.3483,-180 114.0485,-195.6367 95.056,-208.2204 78.3005,-217.2935\"/>\n",
       "<polygon fill=\"#000000\" stroke=\"#000000\" points=\"76.5421,-214.2626 69.2725,-221.97 79.7618,-220.4782 76.5421,-214.2626\"/>\n",
       "</g>\n",
       "<!-- ID1&#45;&gt;TAFP2C -->\n",
       "<g id=\"edge4\" class=\"edge\">\n",
       "<title>ID1&#45;&gt;TAFP2C</title>\n",
       "<path fill=\"none\" stroke=\"#000000\" d=\"M144.8722,-78.1107C126.0092,-67.158 97.6558,-50.6947 75.3887,-37.7654\"/>\n",
       "<polygon fill=\"#000000\" stroke=\"#000000\" points=\"76.9777,-34.6408 66.5723,-32.6462 73.4627,-40.6944 76.9777,-34.6408\"/>\n",
       "</g>\n",
       "</g>\n",
       "</svg>\n"
      ],
      "text/plain": [
       "<graphviz.files.Source at 0x113a1b080>"
      ]
     },
     "execution_count": 32,
     "metadata": {},
     "output_type": "execute_result"
    }
   ],
   "source": [
    "k = 0\n",
    "spec_index = results[k][0]\n",
    "net_spec = network_specs[spec_index]\n",
    "net_spec_str = NetworkSpecStr(net_spec)\n",
    "network = DSGRN.Network(net_spec_str)\n",
    "\n",
    "DSGRN.DrawGraph(network)"
   ]
  },
  {
   "cell_type": "markdown",
   "metadata": {},
   "source": [
    "# Conjugate method"
   ]
  },
  {
   "cell_type": "code",
   "execution_count": 34,
   "metadata": {},
   "outputs": [],
   "source": [
    "from total2partial import getPartialOrderByThreshold\n",
    "\n",
    "def parser(nw):\n",
    "    odegree = {}\n",
    "    inodes ={}\n",
    "    ilogic = {}\n",
    "    inedges = {}\n",
    "    with open(nw,'r') as file:\n",
    "        line= file.readline()\n",
    "        while line:\n",
    "            line, logic = line.split('-')\n",
    "            \n",
    "            node, predecessors = line.split(':')\n",
    "            \n",
    "            ilogic[node] = logic.strip()\n",
    "            \n",
    "            tempinodes = predecessors.replace('(','+').replace(')','+').split('+')\n",
    "            tempinodes = [rr for rr in tempinodes if rr ]\n",
    "            inodes[node] = [r  if r[0]!='~' else r[1:] for r in tempinodes]\n",
    "            \n",
    "            tempinedges = ['A'  if r[0]!='~' else 'R' for r in tempinodes]\n",
    "            inedges[node] = tempinedges\n",
    "            \n",
    "            line = file.readline()\n",
    "    \n",
    "    for node in inodes:\n",
    "        outdegree = 0\n",
    "        for currentnode in inodes:\n",
    "            if node in inodes[currentnode]:\n",
    "                outdegree+=1\n",
    "        odegree[node] = outdegree\n",
    "    return [odegree,inodes,ilogic,inedges]\n",
    "\n",
    "\n",
    "# the order of node should be in the order of (x+y)z...\n",
    "# inodes: in nodes, ilogic: in logic\n",
    "# to get the polynomial index under current state\n",
    "def getpindex(inodes,inedges,istates):\n",
    "    s = ''\n",
    "    activation = {('R','L'),('A','H')}\n",
    "    repression = {('R','H'),('A','L')}\n",
    "    for i in range(len(inodes)):\n",
    "        node = inodes[i]\n",
    "        coordstate = (inedges[i],istates[node])\n",
    "        if coordstate in activation:\n",
    "            s = s+'1'\n",
    "        else:\n",
    "            s = s+'0'\n",
    "    return int(s,2)\n",
    "\n",
    "# generate coordinate parameter nodes\n",
    "# the inlogic should be in form 4_2_...\n",
    "def gencoordpn(logic,odegree):\n",
    "    file = logic+'_final.dat'\n",
    "    coordpn = getPartialOrderByThreshold(odegree,file)\n",
    "    return coordpn\n",
    "\n",
    "# odegree: out degree\n",
    "# r is the \n",
    "# coordpn: coordinates parameter node\n",
    "def getcoordprop(coordpn, state, odegree,inodes,ilogic,inedges, istates):\n",
    "    pindex = getpindex(inodes,inedges,istates)\n",
    "    idegree = len(inedges)\n",
    "    prop = 0\n",
    "    if state == 'H':\n",
    "        num = [r for r in coordpn if r.index(-1) < r.index(pindex)]\n",
    "        prop = len(num)/len(coordpn)\n",
    "    if state == 'L':\n",
    "        num = [r for r in coordpn if r.index(-odegree) > r.index(pindex)]\n",
    "        prop = len(num)/len(coordpn)\n",
    "    return prop\n",
    "\n",
    "# it seems for each node we need: the current state, the logic of in, the outdegree, the states of all innode\n",
    "# we need to create 3 dictionary for nodes\n",
    "# states of each node,  in logic of each node, out degree of each node\n",
    "\n",
    "def computetotalprop(nw,istates):\n",
    "    odegree,inodes,ilogic,inedges = parser(nw)\n",
    "    prop = 1\n",
    "    for node in istates:\n",
    "        coordpn = gencoordpn(ilogic[node], odegree[node]) # the ilogic and odegree of node\n",
    "        prop*=getcoordprop(coordpn, istates[node], odegree[node], inodes[node], ilogic[node], inedges[node], istates) # all of the node\n",
    "    return prop\n",
    "\n",
    "# for each 1-d parameter space\n",
    "def countregions(r,state,numtheta,nodeindex,regions):\n",
    "    nodepositions = [r[nodeindex] for r in regions]\n",
    "    downtheta = [p-numtheta-1 for p in nodepositions]\n",
    "    uptheta = [p-numtheta for p in nodeposition]\n",
    "    count = 0\n",
    "    for instance in r:\n",
    "        instance = True\n",
    "        if downtheta >= -numtheta:\n",
    "            if r.index(state) < r.index(downtheta):\n",
    "                # instance = False\n",
    "                continue\n",
    "        if uptheta < 0:\n",
    "            if r.index(state) > r.index(uptheta):\n",
    "                # instance =\n",
    "                continue\n",
    "        count+=1\n",
    "    return count"
   ]
  },
  {
   "cell_type": "code",
   "execution_count": 35,
   "metadata": {},
   "outputs": [
    {
     "data": {
      "text/plain": [
       "0.11083333333333331"
      ]
     },
     "execution_count": 35,
     "metadata": {},
     "output_type": "execute_result"
    }
   ],
   "source": [
    "nw = 'nw.txt'\n",
    "istates = {'SOX17':'H', 'PRDMI':'H', 'HAND1':'L', 'ID1':'H','TAFP2C':'H'}\n",
    "computetotalprop(nw,istates)"
   ]
  },
  {
   "cell_type": "code",
   "execution_count": 15,
   "metadata": {},
   "outputs": [
    {
     "data": {
      "text/plain": [
       "0.11083333333333334"
      ]
     },
     "execution_count": 15,
     "metadata": {},
     "output_type": "execute_result"
    }
   ],
   "source": [
    "38304/345600"
   ]
  },
  {
   "cell_type": "code",
   "execution_count": null,
   "metadata": {},
   "outputs": [],
   "source": [
    "istates = {'SOX17':'L', 'PRDMI':'L', 'HAND1':'L', 'ID1':'L','TAFP2C':'L'}\n",
    "odegree = {'SOX17':2, 'PRDMI':2, 'HAND1':1, 'ID1':2,'TAFP2C':1}\n",
    "inodes = {'SOX17':['ID1','TAFP2C'], 'PRDMI':['SOX17'], 'HAND1':['PRDMI'], 'ID1':['PRDMI'],\n",
    "          'TAFP2C':['SOX17','ID1','HAND1']}\n",
    "ilogic = {'SOX17':'2_2', 'PRDMI':'2', 'HAND1':'2', 'ID1':'2','TAFP2C':'4_2'}\n",
    "inedges = {'SOX17':['A','A'], 'PRDMI':['A'], 'HAND1':['R'], 'ID1':['A'],'TAFP2C':['A','A','R']}"
   ]
  },
  {
   "cell_type": "code",
   "execution_count": 25,
   "metadata": {},
   "outputs": [],
   "source": [
    "nw = 'nw.txt'\n",
    "odegree,inodes,ilogic,inedges = parser(nw)"
   ]
  },
  {
   "cell_type": "code",
   "execution_count": 26,
   "metadata": {},
   "outputs": [
    {
     "data": {
      "text/plain": [
       "{'SOX17': 2, 'TAFP2C': 1, 'PRDMI': 2, 'HAND1': 1, 'ID1': 2}"
      ]
     },
     "execution_count": 26,
     "metadata": {},
     "output_type": "execute_result"
    }
   ],
   "source": [
    "odegree"
   ]
  },
  {
   "cell_type": "code",
   "execution_count": 27,
   "metadata": {},
   "outputs": [
    {
     "data": {
      "text/plain": [
       "{'SOX17': ['TAFP2C', 'ID1'],\n",
       " 'TAFP2C': ['ID1', 'SOX17', 'HAND1'],\n",
       " 'PRDMI': ['SOX17'],\n",
       " 'HAND1': ['PRDMI'],\n",
       " 'ID1': ['PRDMI']}"
      ]
     },
     "execution_count": 27,
     "metadata": {},
     "output_type": "execute_result"
    }
   ],
   "source": [
    "inodes"
   ]
  },
  {
   "cell_type": "code",
   "execution_count": 28,
   "metadata": {},
   "outputs": [
    {
     "data": {
      "text/plain": [
       "{'SOX17': '2_2', 'TAFP2C': '4_2', 'PRDMI': '2', 'HAND1': '2', 'ID1': '2'}"
      ]
     },
     "execution_count": 28,
     "metadata": {},
     "output_type": "execute_result"
    }
   ],
   "source": [
    "ilogic"
   ]
  },
  {
   "cell_type": "code",
   "execution_count": 29,
   "metadata": {},
   "outputs": [
    {
     "data": {
      "text/plain": [
       "{'SOX17': ['A', 'A'],\n",
       " 'TAFP2C': ['A', 'A', 'R'],\n",
       " 'PRDMI': ['A'],\n",
       " 'HAND1': ['R'],\n",
       " 'ID1': ['A']}"
      ]
     },
     "execution_count": 29,
     "metadata": {},
     "output_type": "execute_result"
    }
   ],
   "source": [
    "inedges"
   ]
  },
  {
   "cell_type": "markdown",
   "metadata": {},
   "source": [
    "SOX17:ID1+TAFP2C\n",
    "PRDMI:SOX17\n",
    "ID1:PRDMI\n",
    "TAFP2C:(SOX17+ID1)~HADN1"
   ]
  },
  {
   "cell_type": "code",
   "execution_count": 121,
   "metadata": {},
   "outputs": [
    {
     "data": {
      "text/plain": [
       "['~HADN1', 'SOX17', 'ID1']"
      ]
     },
     "execution_count": 121,
     "metadata": {},
     "output_type": "execute_result"
    }
   ],
   "source": [
    "r = '~HADN1(SOX17+ID1)'.replace('(','+').replace(')','+').split('+')\n",
    "r = [rr for rr in r if rr ]\n",
    "r"
   ]
  },
  {
   "cell_type": "code",
   "execution_count": 136,
   "metadata": {},
   "outputs": [],
   "source": [
    "inodes ={}\n",
    "inedges = {}\n",
    "ilogic = {}\n",
    "line = 'TAFP2C:(SOX17 +ID1)~HADN1-4_2'\n",
    "line, logic = line.split('-')      \n",
    "node, predecessors = line.split(':')\n",
    "ilogic[node] = logic\n",
    "node, predecessors = line.split(':')\n",
    "tempinodes = predecessors.replace('(','+').replace(')','+').split('+')\n",
    "tempinodes = [rr for rr in tempinodes if rr ]\n",
    "inodes[node] = [r if r[0]!='~' else r[1:] for r in tempinodes]\n",
    "tempinedges = ['A'  if r[0]!='~' else 'R' for r in tempinodes]\n",
    "inedges[node] = tempinedges"
   ]
  },
  {
   "cell_type": "markdown",
   "metadata": {},
   "source": [
    "# Threshold pairs"
   ]
  },
  {
   "cell_type": "code",
   "execution_count": 1,
   "metadata": {},
   "outputs": [],
   "source": [
    "from thresholdPairs import *"
   ]
  },
  {
   "cell_type": "code",
   "execution_count": 81,
   "metadata": {},
   "outputs": [],
   "source": [
    "# the funtion that will generate n pairs of threholds\n",
    "def getPartialOrderByThresholdPair(n,f):\n",
    "    orders = set()\n",
    "    with open(f,'r') as file:\n",
    "        line = file.readline().strip()\n",
    "        while line:\n",
    "            line = tuple(map(lambda x: int(x), line.split(' ')))\n",
    "            orders.add(line)\n",
    "            line = file.readline().strip()\n",
    "    print(len(orders))\n",
    "    for i in range(n,0,-1):\n",
    "        currorders = set()\n",
    "        currorders = set([tuple(binsort2(list(order))) for order in pairInsert(i,orders)])\n",
    "        orders = currorders\n",
    "        #print(orders)\n",
    "    return orders\n",
    " \n",
    "# function will insert +n -n into the partial order with (-1,+1,..., -(n-1),+(n-1)) already \n",
    "# inserted\n",
    "def pairInsert(n,preorders):\n",
    "    ret = set()\n",
    "    for preorder in preorders:\n",
    "        l = len(preorder)\n",
    "        for j in range(l+1):\n",
    "            for k in range(j+1,l+2):\n",
    "                currorder = list(preorder).copy()\n",
    "                currorder[j:j] = ['-{}'.format(n)]\n",
    "                currorder[k:k] = ['+{}'.format(n)]\n",
    "                yield tuple(currorder)\n",
    "    return ret     \n",
    "\n",
    "# sort the bins separated by  -+k and -+j\n",
    "def binsort2(l):\n",
    "    strindex = []\n",
    "    for i in range(len(l)):\n",
    "        if isinstance(l[i],str):\n",
    "            strindex.append(i)\n",
    "    strindex = [-1] + strindex + [ len(l) ]     \n",
    "    #print(strindex)\n",
    "    for i in range(1,len(strindex)):\n",
    "        prev, curr = strindex[i-1], strindex[i]\n",
    "        #print(prev, curr)\n",
    "        #print(l[prev+1:curr])\n",
    "        l[prev+1:curr] = sorted(l[prev+1:curr])\n",
    "    return tuple(l)\n",
    "        "
   ]
  },
  {
   "cell_type": "code",
   "execution_count": 7,
   "metadata": {},
   "outputs": [
    {
     "name": "stdout",
     "output_type": "stream",
     "text": [
      "155\n"
     ]
    }
   ],
   "source": [
    "# -1 +1 threshold pair for (x+y)z\n",
    "file = '4_2_final.dat'\n",
    "ret = getPartialOrderByThresholdPair(1,file)\n",
    "print(len(ret))"
   ]
  },
  {
   "cell_type": "code",
   "execution_count": 6,
   "metadata": {},
   "outputs": [
    {
     "data": {
      "text/plain": [
       "[(0, '-1', 4, '+1', 1, 2, 3, 5, 6, 7),\n",
       " (0, 1, 2, 4, 6, '-1', 3, '+1', 5, 7),\n",
       " (0, 1, 2, '-1', 4, 6, '+1', 3, 5, 7),\n",
       " (0, '-1', 1, 2, 4, 6, '+1', 3, 5, 7),\n",
       " (0, 1, 4, 5, '-1', 2, '+1', 3, 6, 7),\n",
       " (0, 1, 2, '-1', 4, '+1', 3, 5, 6, 7),\n",
       " (0, 1, 2, 4, 5, '-1', '+1', 3, 6, 7),\n",
       " (0, '-1', 1, 2, 3, '+1', 4, 5, 6, 7),\n",
       " ('-1', 0, 1, 2, 4, 6, '+1', 3, 5, 7),\n",
       " (0, 1, 2, 4, 6, '-1', '+1', 3, 5, 7)]"
      ]
     },
     "execution_count": 6,
     "metadata": {},
     "output_type": "execute_result"
    }
   ],
   "source": [
    "list(ret)[:10]"
   ]
  },
  {
   "cell_type": "code",
   "execution_count": 9,
   "metadata": {},
   "outputs": [
    {
     "name": "stdout",
     "output_type": "stream",
     "text": [
      "10230\n"
     ]
    }
   ],
   "source": [
    "# -1 +1 -2 +2threshold pair for (x+y)z\n",
    "# grows very fast\n",
    "file = '4_2_final.dat'\n",
    "ret = getPartialOrderByThresholdPair(2,file)\n",
    "print(len(ret))"
   ]
  },
  {
   "cell_type": "code",
   "execution_count": 10,
   "metadata": {},
   "outputs": [
    {
     "data": {
      "text/plain": [
       "[(0, 1, 2, '-2', '-1', 3, 4, 5, '+1', '+2', 6, 7),\n",
       " ('-1', 0, '+1', 4, '-2', 1, 2, 6, '+2', 3, 5, 7),\n",
       " ('-1', '-2', 0, '+1', 1, 4, 5, '+2', 2, 3, 6, 7),\n",
       " (0, 2, 4, '-2', '+2', 1, '-1', 3, '+1', 5, 6, 7),\n",
       " ('-2', 0, 1, '-1', 4, 5, '+2', 2, 3, 6, '+1', 7),\n",
       " (0, 4, '-2', 1, 2, '-1', 6, '+2', 3, 5, '+1', 7),\n",
       " (0, 2, 4, '-2', 1, '-1', 3, 5, '+1', 6, '+2', 7),\n",
       " (0, 1, 2, 3, '-2', 4, '+2', 5, 6, '-1', 7, '+1'),\n",
       " (0, '-1', 1, 2, 3, '-2', 4, 5, '+1', '+2', 6, 7),\n",
       " (0, '-1', 1, '-2', 2, 4, '+2', '+1', 3, 5, 6, 7)]"
      ]
     },
     "execution_count": 10,
     "metadata": {},
     "output_type": "execute_result"
    }
   ],
   "source": [
    "list(ret)[:10]"
   ]
  }
 ],
 "metadata": {
  "kernelspec": {
   "display_name": "Python (tensorflow)",
   "language": "python",
   "name": "myenv"
  },
  "language_info": {
   "codemirror_mode": {
    "name": "ipython",
    "version": 3
   },
   "file_extension": ".py",
   "mimetype": "text/x-python",
   "name": "python",
   "nbconvert_exporter": "python",
   "pygments_lexer": "ipython3",
   "version": "3.6.7"
  }
 },
 "nbformat": 4,
 "nbformat_minor": 2
}
