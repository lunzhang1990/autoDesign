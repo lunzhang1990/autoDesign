{
 "cells": [
  {
   "cell_type": "code",
   "execution_count": 1,
   "metadata": {},
   "outputs": [],
   "source": [
    "# first use the standard method to compute the statistics\n",
    "# by using the data already computed in KUIAS for two hours\n",
    "\n",
    "import sys\n",
    "sys.path+=['/Users/lunzhang/anaconda3/lib/python3.6/site-packages']\n",
    "import DSGRN\n",
    "import matplotlib.pyplot as plt\n",
    "import numpy as np\n",
    "%matplotlib inline"
   ]
  },
  {
   "cell_type": "markdown",
   "metadata": {},
   "source": [
    "## Counting method"
   ]
  },
  {
   "cell_type": "code",
   "execution_count": 4,
   "metadata": {},
   "outputs": [],
   "source": [
    "def NetworkSpecStr(net_spec):\n",
    "    net_spec_str = \"\"\n",
    "\n",
    "    spec = \"SOX17 : \"\n",
    "    activators = ' + '.join([ 'Y' + str(j) for j in range(0,2) if net_spec[j] == 1])\n",
    "    repressors = ')('.join([ '~Y' + str(j) for j in range(0,2) if net_spec[j] == -1])\n",
    "    if activators:\n",
    "        activators = '(' + activators + ')'\n",
    "    if repressors:\n",
    "        repressors = '(' + repressors + ')'\n",
    "    spec += activators + repressors + \"\\n \"\n",
    "    spec = spec.replace(\"Y0\", \"TAFP2C\")\n",
    "    spec = spec.replace(\"Y1\", \"ID1\")\n",
    "    net_spec_str += spec\n",
    "\n",
    "    spec = \"TAFP2C : \"\n",
    "    activators = ' + '.join([ 'Y' + str(j) for j in range(2,5) if net_spec[j] == 1])\n",
    "    repressors = ')('.join([ '~Y' + str(j) for j in range(2,5) if net_spec[j] == -1])\n",
    "    if activators:\n",
    "        activators = '(' + activators + ')'\n",
    "    if repressors:\n",
    "        repressors = '(' + repressors + ')'\n",
    "    spec += activators + repressors + \"\\n \"\n",
    "    spec = spec.replace(\"Y2\", \"HAND1\")\n",
    "    spec = spec.replace(\"Y3\", \"ID1\")\n",
    "    spec = spec.replace(\"Y4\", \"SOX17\")\n",
    "    net_spec_str += spec\n",
    "\n",
    "    spec = \"PRDMI : \" + (\"~SOX17\" if net_spec[5] == -1 else \"SOX17\") + \"\\n \"\n",
    "    net_spec_str += spec\n",
    "\n",
    "    spec = \"HAND1 : \" + (\"~PRDMI\" if net_spec[6] == -1 else \"PRDMI\") + \"\\n \"\n",
    "    net_spec_str += spec\n",
    "\n",
    "    spec = \"ID1 : \" + (\"~PRDMI\" if net_spec[7] == -1 else \"PRDMI\")\n",
    "    net_spec_str += spec\n",
    "\n",
    "    return net_spec_str"
   ]
  },
  {
   "cell_type": "code",
   "execution_count": 5,
   "metadata": {},
   "outputs": [
    {
     "data": {
      "text/plain": [
       "'/Users/lunzhang/Desktop/autoDesign'"
      ]
     },
     "execution_count": 5,
     "metadata": {},
     "output_type": "execute_result"
    }
   ],
   "source": [
    "pwd"
   ]
  },
  {
   "cell_type": "code",
   "execution_count": 6,
   "metadata": {},
   "outputs": [],
   "source": [
    "results = []\n",
    "for k in range(256):\n",
    "    results_fname = './DSGRNtest/results/results_' + str(k) + '.txt'\n",
    "    with open(results_fname, 'r') as f:\n",
    "        results.append([k] + [int(float(x)) for line in f for x in line.split()])"
   ]
  },
  {
   "cell_type": "code",
   "execution_count": 7,
   "metadata": {},
   "outputs": [],
   "source": [
    "innw = {'SOX17':['ID1','TAFP2C'], \n",
    "        'TFAP2C':['ID1','SOX17','HAND1'],'PRDMI':['SOX17'],'HAND1':['PRDMI'],'ID1':['PRDMI']}\n",
    "setnodes = ['SOX17','TFAP2C','PRDMI','HAND1','ID1']\n",
    "regions = [[0,0,0,0,0],[2,1,2,0,2]]"
   ]
  },
  {
   "cell_type": "code",
   "execution_count": 8,
   "metadata": {},
   "outputs": [],
   "source": [
    "network_specs = []\n",
    "for k in range(256):\n",
    "    net_spec_fname = './DSGRNtest/results/net_spec_' + str(k) + '.txt'\n",
    "    with open(net_spec_fname, 'r') as f:\n",
    "        network_specs.append([int(k) for line in f for k in line.split()])"
   ]
  },
  {
   "cell_type": "code",
   "execution_count": 9,
   "metadata": {},
   "outputs": [],
   "source": [
    "# results.sort(key=lambda x: x[2]+x[3]-x[4], reverse=True)\n",
    "results.sort(key=lambda x: x[4], reverse=True)"
   ]
  },
  {
   "cell_type": "code",
   "execution_count": 10,
   "metadata": {},
   "outputs": [
    {
     "data": {
      "text/plain": [
       "[[221, 345600, 14112, 38304, 936, 41],\n",
       " [223, 345600, 28224, 19152, 936, 47],\n",
       " [253, 345600, 19152, 28224, 936, 35],\n",
       " [255, 345600, 38304, 14112, 936, 44],\n",
       " [205, 345600, 6048, 28224, 216, 36]]"
      ]
     },
     "execution_count": 10,
     "metadata": {},
     "output_type": "execute_result"
    }
   ],
   "source": [
    "results[:5]"
   ]
  },
  {
   "cell_type": "code",
   "execution_count": 11,
   "metadata": {},
   "outputs": [
    {
     "data": {
      "text/plain": [
       "0.0027083333333333334"
      ]
     },
     "execution_count": 11,
     "metadata": {},
     "output_type": "execute_result"
    }
   ],
   "source": [
    "936/345600"
   ]
  },
  {
   "cell_type": "code",
   "execution_count": 12,
   "metadata": {},
   "outputs": [
    {
     "data": {
      "text/plain": [
       "11.083333333333334"
      ]
     },
     "execution_count": 12,
     "metadata": {},
     "output_type": "execute_result"
    }
   ],
   "source": [
    "k=0\n",
    "(results[k][3] / results[k][1]) * 100"
   ]
  },
  {
   "cell_type": "code",
   "execution_count": 13,
   "metadata": {},
   "outputs": [
    {
     "data": {
      "text/plain": [
       "'SOX17 : (TAFP2C + ID1)\\n TAFP2C : (ID1 + SOX17)(~HAND1)\\n PRDMI : SOX17\\n HAND1 : ~PRDMI\\n ID1 : PRDMI'"
      ]
     },
     "execution_count": 13,
     "metadata": {},
     "output_type": "execute_result"
    }
   ],
   "source": [
    "spec_index = 221\n",
    "net_spec = network_specs[spec_index]\n",
    "net_spec_str = NetworkSpecStr(net_spec)\n",
    "net_spec_str"
   ]
  },
  {
   "cell_type": "code",
   "execution_count": 14,
   "metadata": {},
   "outputs": [
    {
     "data": {
      "image/svg+xml": [
       "<?xml version=\"1.0\" encoding=\"UTF-8\" standalone=\"no\"?>\n",
       "<!DOCTYPE svg PUBLIC \"-//W3C//DTD SVG 1.1//EN\"\n",
       " \"http://www.w3.org/Graphics/SVG/1.1/DTD/svg11.dtd\">\n",
       "<!-- Generated by graphviz version 2.40.1 (20161225.0304)\n",
       " -->\n",
       "<!-- Title: %3 Pages: 1 -->\n",
       "<svg width=\"200pt\" height=\"260pt\"\n",
       " viewBox=\"0.00 0.00 200.35 260.00\" xmlns=\"http://www.w3.org/2000/svg\" xmlns:xlink=\"http://www.w3.org/1999/xlink\">\n",
       "<g id=\"graph0\" class=\"graph\" transform=\"scale(1 1) rotate(0) translate(4 256)\">\n",
       "<title>%3</title>\n",
       "<polygon fill=\"#f0f8ff\" stroke=\"transparent\" points=\"-4,4 -4,-256 196.3483,-256 196.3483,4 -4,4\"/>\n",
       "<!-- SOX17 -->\n",
       "<g id=\"node1\" class=\"node\">\n",
       "<title>SOX17</title>\n",
       "<ellipse fill=\"#f5f5dc\" stroke=\"#000000\" cx=\"41.3483\" cy=\"-234\" rx=\"36.7836\" ry=\"18\"/>\n",
       "<text text-anchor=\"middle\" x=\"41.3483\" y=\"-229.8\" font-family=\"Times,serif\" font-size=\"14.00\" fill=\"#000000\">SOX17</text>\n",
       "</g>\n",
       "<!-- TAFP2C -->\n",
       "<g id=\"node2\" class=\"node\">\n",
       "<title>TAFP2C</title>\n",
       "<ellipse fill=\"#f5f5dc\" stroke=\"#000000\" cx=\"41.3483\" cy=\"-18\" rx=\"41.1971\" ry=\"18\"/>\n",
       "<text text-anchor=\"middle\" x=\"41.3483\" y=\"-13.8\" font-family=\"Times,serif\" font-size=\"14.00\" fill=\"#000000\">TAFP2C</text>\n",
       "</g>\n",
       "<!-- SOX17&#45;&gt;TAFP2C -->\n",
       "<g id=\"edge3\" class=\"edge\">\n",
       "<title>SOX17&#45;&gt;TAFP2C</title>\n",
       "<path fill=\"none\" stroke=\"#000000\" d=\"M30.4024,-216.5524C27.4702,-206.0069 25.424,-192.2735 24.3483,-180 20.1565,-132.1751 17.959,-119.8072 22.3483,-72 23.1539,-63.225 24.6812,-53.7478 26.7276,-45.219\"/>\n",
       "<polygon fill=\"#000000\" stroke=\"#000000\" points=\"30.1517,-45.9699 29.4676,-35.3972 23.4092,-44.0889 30.1517,-45.9699\"/>\n",
       "</g>\n",
       "<!-- PRDMI -->\n",
       "<g id=\"node3\" class=\"node\">\n",
       "<title>PRDMI</title>\n",
       "<ellipse fill=\"#f5f5dc\" stroke=\"#000000\" cx=\"80.3483\" cy=\"-162\" rx=\"38.237\" ry=\"18\"/>\n",
       "<text text-anchor=\"middle\" x=\"80.3483\" y=\"-157.8\" font-family=\"Times,serif\" font-size=\"14.00\" fill=\"#000000\">PRDMI</text>\n",
       "</g>\n",
       "<!-- SOX17&#45;&gt;PRDMI -->\n",
       "<g id=\"edge6\" class=\"edge\">\n",
       "<title>SOX17&#45;&gt;PRDMI</title>\n",
       "<path fill=\"none\" stroke=\"#000000\" d=\"M50.7891,-216.5708C55.3541,-208.1431 60.9319,-197.8455 66.0074,-188.4755\"/>\n",
       "<polygon fill=\"#000000\" stroke=\"#000000\" points=\"69.1739,-189.9782 70.8592,-179.5182 63.0188,-186.6442 69.1739,-189.9782\"/>\n",
       "</g>\n",
       "<!-- TAFP2C&#45;&gt;SOX17 -->\n",
       "<g id=\"edge1\" class=\"edge\">\n",
       "<title>TAFP2C&#45;&gt;SOX17</title>\n",
       "<path fill=\"none\" stroke=\"#000000\" d=\"M45.0077,-36.3779C43.8863,-46.7686 41.4466,-60.037 40.3483,-72 35.959,-119.8072 38.1565,-132.1751 42.3483,-180 43.093,-188.497 44.3029,-197.6938 45.1677,-206.048\"/>\n",
       "<polygon fill=\"#000000\" stroke=\"#000000\" points=\"41.6845,-206.3953 46.0177,-216.0635 48.6594,-205.8033 41.6845,-206.3953\"/>\n",
       "</g>\n",
       "<!-- HAND1 -->\n",
       "<g id=\"node4\" class=\"node\">\n",
       "<title>HAND1</title>\n",
       "<ellipse fill=\"#f5f5dc\" stroke=\"#000000\" cx=\"80.3483\" cy=\"-90\" rx=\"40.149\" ry=\"18\"/>\n",
       "<text text-anchor=\"middle\" x=\"80.3483\" y=\"-85.8\" font-family=\"Times,serif\" font-size=\"14.00\" fill=\"#000000\">HAND1</text>\n",
       "</g>\n",
       "<!-- PRDMI&#45;&gt;HAND1 -->\n",
       "<g id=\"edge7\" class=\"edge\">\n",
       "<title>PRDMI&#45;&gt;HAND1</title>\n",
       "<path fill=\"none\" stroke=\"#000000\" d=\"M80.3483,-143.8314C80.3483,-134.6078 80.3483,-123.295 80.3483,-113.4246\"/>\n",
       "<polygon fill=\"#000000\" stroke=\"#000000\" points=\"75.3483,-109.4134 85.3483,-109.4132 85.3483,-111.4132 75.3483,-111.4134 75.3483,-109.4134\"/>\n",
       "<polyline fill=\"none\" stroke=\"#000000\" points=\"80.3483,-108.4133 80.3484,-113.4133 \"/>\n",
       "</g>\n",
       "<!-- ID1 -->\n",
       "<g id=\"node5\" class=\"node\">\n",
       "<title>ID1</title>\n",
       "<ellipse fill=\"#f5f5dc\" stroke=\"#000000\" cx=\"165.3483\" cy=\"-90\" rx=\"27\" ry=\"18\"/>\n",
       "<text text-anchor=\"middle\" x=\"165.3483\" y=\"-85.8\" font-family=\"Times,serif\" font-size=\"14.00\" fill=\"#000000\">ID1</text>\n",
       "</g>\n",
       "<!-- PRDMI&#45;&gt;ID1 -->\n",
       "<g id=\"edge8\" class=\"edge\">\n",
       "<title>PRDMI&#45;&gt;ID1</title>\n",
       "<path fill=\"none\" stroke=\"#000000\" d=\"M99.2125,-146.0209C111.4445,-135.6597 127.5065,-122.0542 140.7384,-110.846\"/>\n",
       "<polygon fill=\"#000000\" stroke=\"#000000\" points=\"143.1836,-113.3617 148.5518,-104.2276 138.6591,-108.0204 143.1836,-113.3617\"/>\n",
       "</g>\n",
       "<!-- HAND1&#45;&gt;TAFP2C -->\n",
       "<g id=\"edge5\" class=\"edge\">\n",
       "<title>HAND1&#45;&gt;TAFP2C</title>\n",
       "<path fill=\"none\" stroke=\"#b8860b\" d=\"M70.7078,-72.2022C65.4655,-62.5241 58.9331,-50.4642 53.3618,-40.1789\"/>\n",
       "<polygon fill=\"#b8860b\" stroke=\"#b8860b\" points=\"46.9576,-38.8538 55.7506,-34.0909 56.7032,-35.8494 47.9102,-40.6124 46.9576,-38.8538\"/>\n",
       "<polyline fill=\"none\" stroke=\"#b8860b\" points=\"50.8778,-35.593 53.2593,-39.9895 \"/>\n",
       "</g>\n",
       "<!-- ID1&#45;&gt;SOX17 -->\n",
       "<g id=\"edge2\" class=\"edge\">\n",
       "<title>ID1&#45;&gt;SOX17</title>\n",
       "<path fill=\"none\" stroke=\"#000000\" d=\"M161.2302,-107.9509C156.0245,-127.457 145.4795,-158.6828 127.3483,-180 114.0485,-195.6367 95.056,-208.2204 78.3005,-217.2935\"/>\n",
       "<polygon fill=\"#000000\" stroke=\"#000000\" points=\"76.5421,-214.2626 69.2725,-221.97 79.7618,-220.4782 76.5421,-214.2626\"/>\n",
       "</g>\n",
       "<!-- ID1&#45;&gt;TAFP2C -->\n",
       "<g id=\"edge4\" class=\"edge\">\n",
       "<title>ID1&#45;&gt;TAFP2C</title>\n",
       "<path fill=\"none\" stroke=\"#000000\" d=\"M144.8722,-78.1107C126.0092,-67.158 97.6558,-50.6947 75.3887,-37.7654\"/>\n",
       "<polygon fill=\"#000000\" stroke=\"#000000\" points=\"76.9777,-34.6408 66.5723,-32.6462 73.4627,-40.6944 76.9777,-34.6408\"/>\n",
       "</g>\n",
       "</g>\n",
       "</svg>\n"
      ],
      "text/plain": [
       "<graphviz.files.Source at 0x11b4332b0>"
      ]
     },
     "execution_count": 14,
     "metadata": {},
     "output_type": "execute_result"
    }
   ],
   "source": [
    "k = 0\n",
    "spec_index = results[k][0]\n",
    "net_spec = network_specs[spec_index]\n",
    "net_spec_str = NetworkSpecStr(net_spec)\n",
    "network = DSGRN.Network(net_spec_str)\n",
    "\n",
    "DSGRN.DrawGraph(network)"
   ]
  },
  {
   "cell_type": "markdown",
   "metadata": {},
   "source": [
    "# Conjugate method ( All LU equilibrim)"
   ]
  },
  {
   "cell_type": "code",
   "execution_count": 13,
   "metadata": {},
   "outputs": [],
   "source": [
    "from stableStatistics import *"
   ]
  },
  {
   "cell_type": "code",
   "execution_count": 18,
   "metadata": {},
   "outputs": [
    {
     "name": "stdout",
     "output_type": "stream",
     "text": [
      "Couting method: 4.083333333333333\n",
      "Conjugate method: 4.083333333333332\n"
     ]
    }
   ],
   "source": [
    "nw = 'nw.txt'\n",
    "istates = {'SOX17':'L', 'PRDMI':'L', 'HAND1':'L', 'ID1':'L','TAFP2C':'L'}\n",
    "conj = computetotalprop(nw,istates)*100\n",
    "\n",
    "print('Conjugate method: {}'.format(conj))"
   ]
  },
  {
   "cell_type": "code",
   "execution_count": 13,
   "metadata": {},
   "outputs": [
    {
     "name": "stdout",
     "output_type": "stream",
     "text": [
      "32\n"
     ]
    }
   ],
   "source": [
    "# generate all L,H equilibrium states\n",
    "nodeList = list(istates.keys())\n",
    "allstates = generateAllLUStates(nodeList)\n",
    "print(len(allstates))\n",
    "\n",
    "# generate all index of direct product structure\n",
    "# ret is always a set of direct product set\n",
    "# those set may not be disjoint\n",
    "ret = []\n",
    "for istates in allstates:\n",
    "    conj = gettotalindex(nw,istates)\n",
    "    ret.append(conj)"
   ]
  },
  {
   "cell_type": "code",
   "execution_count": null,
   "metadata": {},
   "outputs": [],
   "source": []
  }
 ],
 "metadata": {
  "kernelspec": {
   "display_name": "Python (tensorflow)",
   "language": "python",
   "name": "myenv"
  },
  "language_info": {
   "codemirror_mode": {
    "name": "ipython",
    "version": 3
   },
   "file_extension": ".py",
   "mimetype": "text/x-python",
   "name": "python",
   "nbconvert_exporter": "python",
   "pygments_lexer": "ipython3",
   "version": "3.6.7"
  }
 },
 "nbformat": 4,
 "nbformat_minor": 2
}
